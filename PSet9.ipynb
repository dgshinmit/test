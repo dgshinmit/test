{
 "metadata": {
  "language": "Julia",
  "name": "",
  "signature": "sha256:e4bbc1d814409159a29673bbc9de246e88dbaf0411add4f1465031481b0b6f0f"
 },
 "nbformat": 3,
 "nbformat_minor": 0,
 "worksheets": [
  {
   "cells": [
    {
     "cell_type": "markdown",
     "metadata": {},
     "source": [
      "Problem Set 9"
     ]
    },
    {
     "cell_type": "markdown",
     "metadata": {},
     "source": [
      "Jason Liang"
     ]
    },
    {
     "cell_type": "code",
     "collapsed": false,
     "input": [
      "using LaTeXStrings\n",
      "using Winston"
     ],
     "language": "python",
     "metadata": {},
     "outputs": [],
     "prompt_number": 1
    },
    {
     "cell_type": "markdown",
     "metadata": {},
     "source": [
      "1."
     ]
    },
    {
     "cell_type": "markdown",
     "metadata": {},
     "source": [
      "$I^{simp}_N=\\frac{T}{N}(\\frac{1}{6}(f(0)+f(T))+\\frac{1}{3}\\sum_{n=1}^{N-1}f(\\frac{nT}{N})+\\frac{2}{3}\\sum_{n=1}^{N}f(\\frac{(2n-1)T}{2N}))$\n",
      "\n",
      "$=\\frac{T}{N}(\\frac{1}{3}\\sum_{n=0}^{N-1}f(\\frac{nT}{N})+\\frac{2}{3}\\sum_{n=0}^{N-1}f(\\frac{(2n+1)T}{2N}))$"
     ]
    },
    {
     "cell_type": "markdown",
     "metadata": {},
     "source": [
      "$=\\frac{T}{N}(\\frac{1}{3}\\sum_{n=0}^{N-1}(\\sum_{m=-\\infty}^{\\infty} \\widetilde{f}_m e^{2im\\pi n/N})+\\frac{2}{3}\\sum_{n=0}^{N-1}(\\sum_{m=-\\infty}^{\\infty} \\widetilde{f}_m e^{2im\\pi (2n+1)/(2N)})$"
     ]
    },
    {
     "cell_type": "markdown",
     "metadata": {},
     "source": [
      "$=\\frac{T}{N}(\\frac{1}{3}\\sum_{m=-\\infty}^{\\infty}\\widetilde{f}_m (\\sum_{n=0}^{N-1} e^{2im\\pi n/N})+\\frac{2}{3}\\sum_{m=-\\infty}^{\\infty} \\widetilde{f}_m e^{im\\pi /N}(\\sum_{n=0}^{N-1} e^{2im\\pi /N})$"
     ]
    },
    {
     "cell_type": "markdown",
     "metadata": {},
     "source": [
      "$=\\frac{T}{3}(\\sum_{m=-\\infty}^{\\infty}\\widetilde{f}_{Nm}(1+2e^{im\\pi}))$"
     ]
    },
    {
     "cell_type": "markdown",
     "metadata": {},
     "source": [
      "$\\epsilon=|I^{simp}_N-I|=\\frac{T}{3}(3\\sum_{m\\text{ even}, m\\neq 0}\\widetilde{f}_{Nm}-\\sum_{m\\text{ odd}}\\widetilde{f}_{Nm})$"
     ]
    },
    {
     "cell_type": "markdown",
     "metadata": {},
     "source": [
      "Let $\\widetilde{f}_{Nm}=\\frac{a}{Nm}+\\frac{b}{N^2m^2}+\\frac{c}{N^3m^3}+O(1/N^4)$. Then, pairs of the form $\\widetilde{f}_{Nm}$ and $\\widetilde{f}_{-Nm}$ cancel out the $O(1/N)$ and $O(1/N^3)$ terms. For the $O(1/N^2)$ terms, $\\sum_{m=1}^{\\infty} \\frac{b}{4N^2m^2}=\\frac{b\\pi^2}{24N^2}$ and $\\sum_{m=1}^{\\infty} \\frac{b}{N^2(2m-1)^2}=\\frac{b\\pi^2}{8N^2}$, so $3\\sum_{m\\text{ even}, m\\neq 0}\\widetilde{f}_{Nm}-\\sum_{m\\text{ odd}}\\widetilde{f}_{Nm}$ cancels out the $O(1/N^2)$ terms too. Thus, we see that $\\epsilon=O(1/N^4)$ for non-periodic functions.\n",
      "\n",
      "For periodic functions, by the Paley-Wiener theorem, we know that all the derivatives are defined, so $\\widetilde{f}_{Nm}$ decays faster than any polynomial, and $\\epsilon=O(e^{-\\alpha N})$."
     ]
    },
    {
     "cell_type": "markdown",
     "metadata": {},
     "source": [
      "2."
     ]
    },
    {
     "cell_type": "code",
     "collapsed": false,
     "input": [
      "function CCQR_BF(f,N)\n",
      "    points=[cos(n*pi/N) for n in 0:N]\n",
      "    weights=zeros(N+1)\n",
      "    for i in 0:N\n",
      "        if i==0\n",
      "            weights[i+1]=1/N\n",
      "            for n in 1:N\n",
      "                if n%2==0\n",
      "                    weights[i+1]+=2/(N*(1-n^2))\n",
      "                end\n",
      "            end\n",
      "        elseif i==N\n",
      "            weights[i+1]=1/N\n",
      "            for n in 1:N\n",
      "                if n%2==0\n",
      "                    weights[i+1]+=2*cos(n*pi)/(N*(1-n^2))\n",
      "                end\n",
      "            end\n",
      "        else\n",
      "            weights[i+1]=2/N\n",
      "            for n in 1:N\n",
      "                if n%2==0\n",
      "                    weights[i+1]+=4*cos(i*n*pi/N)/(N*(1-n^2))\n",
      "                end\n",
      "            end\n",
      "        end\n",
      "    end\n",
      "    return (points,weights)\n",
      "end"
     ],
     "language": "python",
     "metadata": {},
     "outputs": [
      {
       "metadata": {},
       "output_type": "pyout",
       "prompt_number": 2,
       "text": [
        "CCQR_BF (generic function with 1 method)"
       ]
      }
     ],
     "prompt_number": 2
    },
    {
     "cell_type": "code",
     "collapsed": false,
     "input": [
      "function Simpson(f,N,a,b)\n",
      "    Sum = 0\n",
      "    for i=0:N-1\n",
      "        Sum+=(f(a+i*(b-a)/N)+4*f(a+(2i+1)*(b-a)/(2*N))+f(a+(i+1)*(b-a)/N))/6\n",
      "    end\n",
      "    return Sum/N*(b-a)\n",
      "end"
     ],
     "language": "python",
     "metadata": {},
     "outputs": [
      {
       "metadata": {},
       "output_type": "pyout",
       "prompt_number": 3,
       "text": [
        "Simpson (generic function with 1 method)"
       ]
      }
     ],
     "prompt_number": 3
    },
    {
     "cell_type": "code",
     "collapsed": false,
     "input": [
      "function f(x)\n",
      "    log(x)^3\n",
      "end"
     ],
     "language": "python",
     "metadata": {},
     "outputs": [
      {
       "metadata": {},
       "output_type": "pyout",
       "prompt_number": 4,
       "text": [
        "f (generic function with 1 method)"
       ]
      }
     ],
     "prompt_number": 4
    },
    {
     "cell_type": "code",
     "collapsed": false,
     "input": [
      "function fm(x)\n",
      "    log((x+3)/2)^3/2\n",
      "end"
     ],
     "language": "python",
     "metadata": {},
     "outputs": [
      {
       "metadata": {},
       "output_type": "pyout",
       "prompt_number": 5,
       "text": [
        "fm (generic function with 1 method)"
       ]
      }
     ],
     "prompt_number": 5
    },
    {
     "cell_type": "code",
     "collapsed": false,
     "input": [
      "function g(x)\n",
      "    e^cos((x+1)^2+2*sin(4*x+1))\n",
      "end"
     ],
     "language": "python",
     "metadata": {},
     "outputs": [
      {
       "metadata": {},
       "output_type": "pyout",
       "prompt_number": 7,
       "text": [
        "g (generic function with 1 method)"
       ]
      }
     ],
     "prompt_number": 7
    },
    {
     "cell_type": "code",
     "collapsed": false,
     "input": [
      "function gm(x)\n",
      "    #x=pi(y+1)/2\n",
      "    e^cos((pi*(x+1)/2+1)^2+2*sin(4*pi*(x+1)/2+1))*pi/2\n",
      "end"
     ],
     "language": "python",
     "metadata": {},
     "outputs": [
      {
       "metadata": {},
       "output_type": "pyout",
       "prompt_number": 8,
       "text": [
        "gm (generic function with 1 method)"
       ]
      }
     ],
     "prompt_number": 8
    },
    {
     "cell_type": "code",
     "collapsed": false,
     "input": [
      "function CCQR(f,N)\n",
      "    (points,weights) = CCQR_BF(f,N)\n",
      "    Sum = 0\n",
      "    for i in 1:length(points)\n",
      "        Sum+=f(points[i])*weights[i]\n",
      "    end\n",
      "    Sum\n",
      "end"
     ],
     "language": "python",
     "metadata": {},
     "outputs": [
      {
       "metadata": {},
       "output_type": "pyout",
       "prompt_number": 15,
       "text": [
        "CCQR (generic function with 1 method)"
       ]
      }
     ],
     "prompt_number": 15
    },
    {
     "cell_type": "code",
     "collapsed": false,
     "input": [
      "exactF = 0.10109738718799377\n",
      "exactG = 2.5193079820307612557\n",
      "\n",
      "NVect = int(logspace(1.0,3.0,20))\n",
      "SimpVect = 0.0*NVect\n",
      "CCVect = 0.0*NVect\n",
      "\n",
      "for n = 1:20\n",
      "    SimpVect[n] = abs(exactF-Simpson(f,NVect[n],1,2))/exactF\n",
      "    CCVect[n] = abs(exactF-CCQR(fm,NVect[n]))/exactF\n",
      "end\n",
      "\n",
      "p=FramedPlot()\n",
      "setattr(p.x1, \"log\", true)\n",
      "setattr(p.y1, \"log\", true)\n",
      "SCurve=Curve(NVect, SimpVect, \"color\", \"red\")\n",
      "CCurve=Curve(NVect, CCVect, \"color\", \"blue\")\n",
      "\n",
      "add(p, SCurve)\n",
      "add(p, CCurve)"
     ],
     "language": "python",
     "metadata": {},
     "outputs": [
      {
       "metadata": {},
       "output_type": "pyout",
       "png": "[encoded data removed]",
       "prompt_number": 17,
       "text": [
        "FramedPlot(...)"
       ]
      }
     ],
     "prompt_number": 17
    },
    {
     "cell_type": "code",
     "collapsed": false,
     "input": [
      "NVect = int(logspace(1.0,3.0,20))\n",
      "SimpVect = 0.0*NVect\n",
      "CCVect = 0.0*NVect\n",
      "\n",
      "for n = 1:20\n",
      "    SimpVect[n] = abs(exactG-Simpson(g,NVect[n],0,pi))/exactG\n",
      "    CCVect[n] = abs(exactG-CCQR(gm,NVect[n]))/exactG\n",
      "end\n",
      "\n",
      "p=FramedPlot()\n",
      "setattr(p.x1, \"log\", true)\n",
      "setattr(p.y1, \"log\", true)\n",
      "SCurve=Curve(NVect, SimpVect, \"color\", \"red\")\n",
      "CCurve=Curve(NVect, CCVect, \"color\", \"blue\")\n",
      "\n",
      "add(p, SCurve)\n",
      "add(p, CCurve)"
     ],
     "language": "python",
     "metadata": {},
     "outputs": [
      {
       "metadata": {},
       "output_type": "pyout",
       "png": "[encoded data removed]",
       "prompt_number": 20,
       "text": [
        "FramedPlot(...)"
       ]
      }
     ],
     "prompt_number": 20
    },
    {
     "cell_type": "code",
     "collapsed": false,
     "input": [
      "function f(N)\n",
      "    co = zeros(N+1)\n",
      "    co[1] = 1\n",
      "    for i in 1:N\n",
      "        if i%2==0\n",
      "            co[i+1] = 1/(1-i^2)\n",
      "        end\n",
      "    end\n",
      "    fft(co)\n",
      "end"
     ],
     "language": "python",
     "metadata": {},
     "outputs": [
      {
       "metadata": {},
       "output_type": "pyout",
       "prompt_number": 24,
       "text": [
        "f (generic function with 1 method)"
       ]
      }
     ],
     "prompt_number": 24
    },
    {
     "cell_type": "code",
     "collapsed": false,
     "input": [
      "f(4)"
     ],
     "language": "python",
     "metadata": {},
     "outputs": [
      {
       "metadata": {},
       "output_type": "pyout",
       "prompt_number": 25,
       "text": [
        "5-element Array{Complex{Float64},1}:\n",
        "      0.6+0.0im     \n",
        "  1.24907+0.132525im\n",
        " 0.950929-0.356205im\n",
        " 0.950929+0.356205im\n",
        "  1.24907-0.132525im"
       ]
      }
     ],
     "prompt_number": 25
    },
    {
     "cell_type": "markdown",
     "metadata": {},
     "source": [
      "3."
     ]
    },
    {
     "cell_type": "markdown",
     "metadata": {},
     "source": [
      "$v^p=\\frac{1}{\\sqrt{n}}(1,e^{2\\pi ip/N},e^{4\\pi ip/N},\\ldots e^{2(N-1)\\pi ip/N})$\n",
      "\n",
      "$v^q=\\frac{1}{\\sqrt{n}}(1,e^{2\\pi iq/N},e^{4\\pi iq/N},\\ldots e^{2(N-1)\\pi iq/N})$\n",
      "\n",
      "$<v^p,v^q>=\\frac{1}{N}\\sum_{n=1}^N e^{2n\\pi ip/N}e^{-2n\\pi iq/N}=\\frac{1}{N}\\sum_{n=1}^N e^{2n\\pi i(p-q)/N}$"
     ]
    },
    {
     "cell_type": "markdown",
     "metadata": {},
     "source": [
      "If $p=q$, this sum evaluates to $\\frac{1}{N}\\sum_{n=1}^N 1=1$\n",
      "\n",
      "Else, letting $\\zeta=e^{2\\pi i(p-q)/N}$, we have that $\\zeta^N=1, \\zeta\\neq 1\\Rightarrow (1-\\zeta)(\\zeta^{N-1}+\\zeta^{N-2}+\\ldots +\\zeta+1)=0\\Rightarrow \\zeta^{N-1}+\\zeta^{N-2}+\\ldots +\\zeta+1=0$, so $\\frac{1}{N}\\sum_{n=1}^N \\zeta^n=0$.\n",
      "\n",
      "Thus, $<v^p,v^q>=\\delta_{p,q}$."
     ]
    },
    {
     "cell_type": "markdown",
     "metadata": {},
     "source": [
      "Extra Credit"
     ]
    },
    {
     "cell_type": "markdown",
     "metadata": {},
     "source": [
      "We can try simpler versions of this problem to get a handle on it. Suppose there is only 1 blue-eyed person. Then, they will look around, realize no one else has blue eyes, and commit suicide the next day. If there are 2 blue-eyed people, they will look around, realize there is 1 other person with blue eyes, and expect them to commit suicide the next day. However, no one commits suicide the next day, so they both realize there were 2 blue-eyed people, and they commit suicide two days after the announcement.\n",
      "\n",
      "Using induction, we may prove that if there are $n$ blue-eyed people, they will all wait $n-1$ days to see if all the other blue-eyed people commit suicide, and then all commit suicide on the $n$th day. Thus, in this problem, all 100 blue-eyed people commit suicide on the 100th day. The brown-eyed people are not affected because they see that 100 blue-eyed people committed suicide on the 100th day, so they have no information about their eye color afterwards (they just know that it is not blue).\n",
      "\n",
      "Tao also has a list of articles on academic advice on his blog; most are geared towards graduate students and postdocs, but there are a few interesting articles pertinent to high schoolers and undergrads."
     ]
    },
    {
     "cell_type": "code",
     "collapsed": false,
     "input": [],
     "language": "python",
     "metadata": {},
     "outputs": []
    }
   ],
   "metadata": {}
  }
 ]
}